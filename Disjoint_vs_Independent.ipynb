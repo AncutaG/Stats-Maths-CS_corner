{
 "nbformat": 4,
 "nbformat_minor": 2,
 "metadata": {
  "language_info": {
   "name": "python",
   "codemirror_mode": {
    "name": "ipython",
    "version": 3
   },
   "version": "3.7.4-final"
  },
  "orig_nbformat": 2,
  "file_extension": ".py",
  "mimetype": "text/x-python",
  "name": "python",
  "npconvert_exporter": "python",
  "pygments_lexer": "ipython3",
  "version": 3,
  "kernelspec": {
   "name": "python3",
   "display_name": "Python 3"
  }
 },
 "cells": [
  {
   "cell_type": "markdown",
   "metadata": {},
   "source": [
    "## Disjoint vs independent events \n",
    "\n",
    "I wanted to relearn from another perspective the difference between the two concepts. The comparison between the two is really essential to understand especially because many people tend to mixt the two notions pretty often without even realizing the *under the hood* implications.\n",
    "\n",
    "### First of all...\n",
    "Let's go back to the fundamentals' layer about *disjoint (events not happening at the same time)* and *independent (events not affecting each other) *.\n",
    "\n",
    "> **Two events (A and B) are called disjoint or mutually exclusive**  because when A occurs, B **can't** occur...so the occurence of one event (A) will mean the non-occurence of the other event (B) (this is nothing more than saying * both events can't happen at the same time*). Within this story we know that A and B don't have any outcomes in common- vizualizing here the Venn diagram.  \n",
    "\n",
    "* Let's say we are tossing a die twice. In the first trial possible outcomes are either faces with numbers 1,2,3,4,5,6. \n",
    "* Let us consider  probability of coming an even number(A) and odd number(B). \n",
    "* Now if the outcome is an even number (A)  then it can not be an odd number(B) also, in this context... whatever happens in A can not happen in B. **So A and B are disjoint.**\n",
    "\n",
    "\n",
    "> **Two events/processes (A and B) are called independent** because whether we know the outcome of one event(A), this aspect doesn't provide a useful information about the outcome of the other one (B).\n",
    "\n",
    "* We are tossing 2 dice at once. Each die is independent, you can get any number from 1 to 6 regardless of the outcome of the other die. When the first die shows 1 it doesn't affect the second die.\n",
    "\n",
    "* Whether we get 6 on one die (A) or not getting 6 in second die (B) does not depend upon the other die. **So we say A is independent of B.**\n",
    "\n",
    "\n",
    "\n",
    "\n"
   ]
  },
  {
   "cell_type": "markdown",
   "metadata": {},
   "source": [
    "<img src=\"Images/sum_dice_coursera.JPG\" width=\"600\" />\n",
    "\n",
    "In the above image we visualized the output (the sum) of 2 dice. We can easily see that the probability of having a value for the sum is not equally likely with the other values, due to the fact that a sum is obtained using different combinations of the two dice ( under the logically conditions that each face can take values between {1,2..6} and the sum can take values among {2,3,...12})\n",
    "\n",
    "\n",
    "So for example, the probability of having 4 as sum means the probability of having either one of the 3 cases (where the sum of the 2 dice is 4, as in the bellow image).\n"
   ]
  },
  {
   "cell_type": "markdown",
   "metadata": {},
   "source": [
    "\n",
    "But here we consider the two aspects discussed above as well: *disjoint events* and *independence* (because under the event of having 4 as sum after throwing the 2 dice, lies 3 other disjoint events given by the combinations: (1,3)->A, (2,2)->B, (3,1)->C.\n",
    "* So the P(4) = P(A∪B∪C) = P(A)  + P(B) + P(C), where P(A ∩ B ∩ C) = 0 (here we think in terms of union(*the \"or relation\"*) because either of the three cases can occur, but **only one occurs at a single time**.  \n",
    " \n",
     "<img src=\"Images/disjoint_indep.JPG\" width=\"600\" />\n",
    "Also, the events (individually seen one by one):  (1->a,3->b)->A, (2->a,2->b)->B, (3->a,1->b)->C have underneath pairs of other **independent and joint** events (a->first dice face,b->second dice face). At this point we need to think in terms of intersection ( the *\"and relation\"*) because we need both a and b to happen for calculating further the sum between the two dice.\n",
    "\n",
    " * a and b are joint events because a and b occur together (when we throw simulationusly the two dice).\n",
    "\n",
    " * a and b are independent because, for example,  having 3 on one die is independent of having 1 on the other die, having 2 on one die is independent of having 2 on the other die and so on.\n",
    "\n",
    "\n",
    "### Secondly...\n",
    "One important detail to keep in mind here is the fact that, **disjoint (mutually exclusive) events need to be dependent too** (they can't be independent) since if one event occurs we know the other one cannot occur (so the dependece is seen in this way here within the binary events which particion the sample space meaning if (P(one event)=1 then the P(the other disjoint event)=0 and P(having both events) = 1 * 0 which is 0). We can't simultaneously prevent the other event from happening (independence) and also not affect whether it happens (disjoint events). But we could think of a sort of artificial case when two events are independent and disjoint, the case when one event never happens under any circumstanes. \n"
   ]
  },
  {
   "cell_type": "markdown",
   "metadata": {},
   "source": [
    "Let's summarize the aspects discussed above within a matrix (I was inspired mostly by [the following source](https://www.dentonisd.org/cms/lib/TX21000245/Centricity/Domain/926/Disjoint_vs_Independent.pdf) which reflects the bellow image, in case the link won't be availbale anymore in the future)\n",
    "\n",
    "<img src=\"Images/matrix_disjoint_indep.JPG\" width=\"600\" />\n",
    "\n"
   ]
  }
 ]
}
